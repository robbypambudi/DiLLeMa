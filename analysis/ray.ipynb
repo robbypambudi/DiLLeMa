{
 "cells": [
  {
   "cell_type": "code",
   "id": "initial_id",
   "metadata": {
    "collapsed": true,
    "ExecuteTime": {
     "end_time": "2025-05-14T23:12:08.939575Z",
     "start_time": "2025-05-14T23:12:04.675500Z"
    }
   },
   "source": [
    "import ray\n",
    "from ray import serve\n",
    "from ray.serve.llm import LLMConfig, LLMServer, LLMRouter\n",
    "\n",
    "# Initialize Ray\n",
    "ray.init(\n",
    "    address='10.42.0.118:6379'\n",
    ")"
   ],
   "outputs": [
    {
     "name": "stderr",
     "output_type": "stream",
     "text": [
      "/home/robby/miniconda3/envs/dillema/lib/python3.12/site-packages/tqdm/auto.py:21: TqdmWarning: IProgress not found. Please update jupyter and ipywidgets. See https://ipywidgets.readthedocs.io/en/stable/user_install.html\n",
      "  from .autonotebook import tqdm as notebook_tqdm\n",
      "/home/robby/miniconda3/envs/dillema/lib/python3.12/site-packages/requests/__init__.py:86: RequestsDependencyWarning: Unable to find acceptable character detection dependency (chardet or charset_normalizer).\n",
      "  warnings.warn(\n",
      "2025-05-15 06:12:04,959\tINFO util.py:154 -- Missing packages: ['ipywidgets']. Run `pip install -U ipywidgets`, then restart the notebook server for rich notebook output.\n"
     ]
    },
    {
     "name": "stdout",
     "output_type": "stream",
     "text": [
      "INFO 05-15 06:12:07 [__init__.py:239] Automatically detected platform cuda.\n"
     ]
    },
    {
     "name": "stderr",
     "output_type": "stream",
     "text": [
      "2025-05-15 06:12:08,141\tINFO worker.py:1694 -- Connecting to existing Ray cluster at address: 10.42.0.118:6379...\n",
      "2025-05-15 06:12:08,149\tINFO worker.py:1879 -- Connected to Ray cluster. View the dashboard at \u001B[1m\u001B[32mhttp://10.42.0.118:8265 \u001B[39m\u001B[22m\n"
     ]
    },
    {
     "ename": "RuntimeError",
     "evalue": "Version mismatch: The cluster was started with:\n    Ray: 2.12.0\n    Python: 3.10.14\nThis process on node 10.42.0.1 was started with:\n    Ray: 2.46.0\n    Python: 3.12.9\n",
     "output_type": "error",
     "traceback": [
      "\u001B[31m---------------------------------------------------------------------------\u001B[39m",
      "\u001B[31mRuntimeError\u001B[39m                              Traceback (most recent call last)",
      "\u001B[36mCell\u001B[39m\u001B[36m \u001B[39m\u001B[32mIn[1]\u001B[39m\u001B[32m, line 6\u001B[39m\n\u001B[32m      3\u001B[39m \u001B[38;5;28;01mfrom\u001B[39;00m\u001B[38;5;250m \u001B[39m\u001B[34;01mray\u001B[39;00m\u001B[34;01m.\u001B[39;00m\u001B[34;01mserve\u001B[39;00m\u001B[34;01m.\u001B[39;00m\u001B[34;01mllm\u001B[39;00m\u001B[38;5;250m \u001B[39m\u001B[38;5;28;01mimport\u001B[39;00m LLMConfig, LLMServer, LLMRouter\n\u001B[32m      5\u001B[39m \u001B[38;5;66;03m# Initialize Ray\u001B[39;00m\n\u001B[32m----> \u001B[39m\u001B[32m6\u001B[39m ray.init(\n\u001B[32m      7\u001B[39m     address=\u001B[33m'\u001B[39m\u001B[33m10.42.0.118:6379\u001B[39m\u001B[33m'\u001B[39m\n\u001B[32m      8\u001B[39m )\n",
      "\u001B[36mFile \u001B[39m\u001B[32m~/miniconda3/envs/dillema/lib/python3.12/site-packages/ray/_private/client_mode_hook.py:103\u001B[39m, in \u001B[36mclient_mode_hook.<locals>.wrapper\u001B[39m\u001B[34m(*args, **kwargs)\u001B[39m\n\u001B[32m    101\u001B[39m     \u001B[38;5;28;01mif\u001B[39;00m func.\u001B[34m__name__\u001B[39m != \u001B[33m\"\u001B[39m\u001B[33minit\u001B[39m\u001B[33m\"\u001B[39m \u001B[38;5;129;01mor\u001B[39;00m is_client_mode_enabled_by_default:\n\u001B[32m    102\u001B[39m         \u001B[38;5;28;01mreturn\u001B[39;00m \u001B[38;5;28mgetattr\u001B[39m(ray, func.\u001B[34m__name__\u001B[39m)(*args, **kwargs)\n\u001B[32m--> \u001B[39m\u001B[32m103\u001B[39m \u001B[38;5;28;01mreturn\u001B[39;00m func(*args, **kwargs)\n",
      "\u001B[36mFile \u001B[39m\u001B[32m~/miniconda3/envs/dillema/lib/python3.12/site-packages/ray/_private/worker.py:1890\u001B[39m, in \u001B[36minit\u001B[39m\u001B[34m(address, num_cpus, num_gpus, resources, labels, object_store_memory, local_mode, ignore_reinit_error, include_dashboard, dashboard_host, dashboard_port, job_config, configure_logging, logging_level, logging_format, logging_config, log_to_driver, namespace, runtime_env, storage, enable_resource_isolation, system_reserved_cpu, system_reserved_memory, **kwargs)\u001B[39m\n\u001B[32m   1887\u001B[39m \u001B[38;5;28;01melse\u001B[39;00m:\n\u001B[32m   1888\u001B[39m     logger.info(info_str)\n\u001B[32m-> \u001B[39m\u001B[32m1890\u001B[39m connect(\n\u001B[32m   1891\u001B[39m     _global_node,\n\u001B[32m   1892\u001B[39m     _global_node.session_name,\n\u001B[32m   1893\u001B[39m     mode=driver_mode,\n\u001B[32m   1894\u001B[39m     log_to_driver=log_to_driver,\n\u001B[32m   1895\u001B[39m     worker=global_worker,\n\u001B[32m   1896\u001B[39m     driver_object_store_memory=_driver_object_store_memory,\n\u001B[32m   1897\u001B[39m     job_id=\u001B[38;5;28;01mNone\u001B[39;00m,\n\u001B[32m   1898\u001B[39m     namespace=namespace,\n\u001B[32m   1899\u001B[39m     job_config=job_config,\n\u001B[32m   1900\u001B[39m     entrypoint=ray._private.utils.get_entrypoint_name(),\n\u001B[32m   1901\u001B[39m )\n\u001B[32m   1902\u001B[39m \u001B[38;5;28;01mif\u001B[39;00m job_config \u001B[38;5;129;01mand\u001B[39;00m job_config.code_search_path:\n\u001B[32m   1903\u001B[39m     global_worker.set_load_code_from_local(\u001B[38;5;28;01mTrue\u001B[39;00m)\n",
      "\u001B[36mFile \u001B[39m\u001B[32m~/miniconda3/envs/dillema/lib/python3.12/site-packages/ray/_private/worker.py:2412\u001B[39m, in \u001B[36mconnect\u001B[39m\u001B[34m(node, session_name, mode, log_to_driver, worker, driver_object_store_memory, job_id, namespace, job_config, runtime_env_hash, startup_token, ray_debugger_external, entrypoint, worker_launch_time_ms, worker_launched_time_ms, debug_source, enable_resource_isolation)\u001B[39m\n\u001B[32m   2410\u001B[39m \u001B[38;5;28;01mexcept\u001B[39;00m \u001B[38;5;167;01mException\u001B[39;00m \u001B[38;5;28;01mas\u001B[39;00m e:\n\u001B[32m   2411\u001B[39m     \u001B[38;5;28;01mif\u001B[39;00m mode == SCRIPT_MODE:\n\u001B[32m-> \u001B[39m\u001B[32m2412\u001B[39m         \u001B[38;5;28;01mraise\u001B[39;00m e\n\u001B[32m   2413\u001B[39m     \u001B[38;5;28;01melif\u001B[39;00m mode == WORKER_MODE:\n\u001B[32m   2414\u001B[39m         traceback_str = traceback.format_exc()\n",
      "\u001B[36mFile \u001B[39m\u001B[32m~/miniconda3/envs/dillema/lib/python3.12/site-packages/ray/_private/worker.py:2409\u001B[39m, in \u001B[36mconnect\u001B[39m\u001B[34m(node, session_name, mode, log_to_driver, worker, driver_object_store_memory, job_id, namespace, job_config, runtime_env_hash, startup_token, ray_debugger_external, entrypoint, worker_launch_time_ms, worker_launched_time_ms, debug_source, enable_resource_isolation)\u001B[39m\n\u001B[32m   2406\u001B[39m \u001B[38;5;66;03m# For driver's check that the version information matches the version\u001B[39;00m\n\u001B[32m   2407\u001B[39m \u001B[38;5;66;03m# information that the Ray cluster was started with.\u001B[39;00m\n\u001B[32m   2408\u001B[39m \u001B[38;5;28;01mtry\u001B[39;00m:\n\u001B[32m-> \u001B[39m\u001B[32m2409\u001B[39m     node.check_version_info()\n\u001B[32m   2410\u001B[39m \u001B[38;5;28;01mexcept\u001B[39;00m \u001B[38;5;167;01mException\u001B[39;00m \u001B[38;5;28;01mas\u001B[39;00m e:\n\u001B[32m   2411\u001B[39m     \u001B[38;5;28;01mif\u001B[39;00m mode == SCRIPT_MODE:\n",
      "\u001B[36mFile \u001B[39m\u001B[32m~/miniconda3/envs/dillema/lib/python3.12/site-packages/ray/_private/node.py:447\u001B[39m, in \u001B[36mNode.check_version_info\u001B[39m\u001B[34m(self)\u001B[39m\n\u001B[32m    445\u001B[39m     \u001B[38;5;28;01mreturn\u001B[39;00m\n\u001B[32m    446\u001B[39m node_ip_address = ray._private.services.get_node_ip_address()\n\u001B[32m--> \u001B[39m\u001B[32m447\u001B[39m ray._private.utils.check_version_info(\n\u001B[32m    448\u001B[39m     cluster_metadata, \u001B[33mf\u001B[39m\u001B[33m\"\u001B[39m\u001B[33mnode \u001B[39m\u001B[38;5;132;01m{\u001B[39;00mnode_ip_address\u001B[38;5;132;01m}\u001B[39;00m\u001B[33m\"\u001B[39m\n\u001B[32m    449\u001B[39m )\n",
      "\u001B[36mFile \u001B[39m\u001B[32m~/miniconda3/envs/dillema/lib/python3.12/site-packages/ray/_private/utils.py:1571\u001B[39m, in \u001B[36mcheck_version_info\u001B[39m\u001B[34m(cluster_metadata, this_process_address, raise_on_mismatch, python_version_match_level)\u001B[39m\n\u001B[32m   1569\u001B[39m error_message = \u001B[33mf\u001B[39m\u001B[33m\"\u001B[39m\u001B[33mVersion mismatch: \u001B[39m\u001B[38;5;132;01m{\u001B[39;00mmismatch_msg\u001B[38;5;132;01m}\u001B[39;00m\u001B[33m\"\u001B[39m\n\u001B[32m   1570\u001B[39m \u001B[38;5;28;01mif\u001B[39;00m raise_on_mismatch:\n\u001B[32m-> \u001B[39m\u001B[32m1571\u001B[39m     \u001B[38;5;28;01mraise\u001B[39;00m \u001B[38;5;167;01mRuntimeError\u001B[39;00m(error_message)\n\u001B[32m   1572\u001B[39m \u001B[38;5;28;01melse\u001B[39;00m:\n\u001B[32m   1573\u001B[39m     logger.warning(error_message)\n",
      "\u001B[31mRuntimeError\u001B[39m: Version mismatch: The cluster was started with:\n    Ray: 2.12.0\n    Python: 3.10.14\nThis process on node 10.42.0.1 was started with:\n    Ray: 2.46.0\n    Python: 3.12.9\n"
     ]
    }
   ],
   "execution_count": 1
  }
 ],
 "metadata": {
  "kernelspec": {
   "display_name": "Python 3",
   "language": "python",
   "name": "python3"
  },
  "language_info": {
   "codemirror_mode": {
    "name": "ipython",
    "version": 2
   },
   "file_extension": ".py",
   "mimetype": "text/x-python",
   "name": "python",
   "nbconvert_exporter": "python",
   "pygments_lexer": "ipython2",
   "version": "2.7.6"
  }
 },
 "nbformat": 4,
 "nbformat_minor": 5
}
